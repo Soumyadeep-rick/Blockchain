{
 "cells": [
  {
   "cell_type": "code",
   "execution_count": 1,
   "metadata": {},
   "outputs": [],
   "source": [
    "import hashlib\n",
    "import datetime"
   ]
  },
  {
   "cell_type": "code",
   "execution_count": 13,
   "metadata": {},
   "outputs": [
    {
     "name": "stdout",
     "output_type": "stream",
     "text": [
      "Data: 1\n",
      "Data: 2\n",
      "Data: 3\n",
      "Data: 4\n",
      "Data: 5\n",
      "\n",
      "{\n",
      "previous_hash: \n",
      "Data: 1\n",
      "hash: 611476d2ba32681878bbe9e8ef4efcdfdf517cecb4590b5f811df5ec9a161c91\n",
      "timestamp: 2021-10-22 00:14:32.673590\n",
      "\n",
      "previous_hash: 611476d2ba32681878bbe9e8ef4efcdfdf517cecb4590b5f811df5ec9a161c91\n",
      "Data: 2\n",
      "hash: 906bb987f68fb502fbc219a6c09482367c2f005299af0a916b49a9e1f432700e\n",
      "timestamp: 2021-10-22 00:14:33.575693\n",
      "\n",
      "previous_hash: 906bb987f68fb502fbc219a6c09482367c2f005299af0a916b49a9e1f432700e\n",
      "Data: 3\n",
      "hash: 986c1df6d1a0bd5484ae9aa93195f848ef5ece7c953018ea3f06d7e11676dd75\n",
      "timestamp: 2021-10-22 00:14:34.465785\n",
      "\n",
      "previous_hash: 986c1df6d1a0bd5484ae9aa93195f848ef5ece7c953018ea3f06d7e11676dd75\n",
      "Data: 4\n",
      "hash: 34bac83844bb403f4bfb239d0d35795b477b6789916c984636664d01474f2f27\n",
      "timestamp: 2021-10-22 00:14:35.604222\n",
      "\n",
      "previous_hash: 34bac83844bb403f4bfb239d0d35795b477b6789916c984636664d01474f2f27\n",
      "Data: 5\n",
      "hash: afa78feed3925346d18cc969bfc30dcc80ab2666cc3b9adc6fab93bbb6158249\n",
      "timestamp: 2021-10-22 00:14:36.493508\n",
      "\n",
      "Blockchain:\n",
      "[1]<-[2]<-[3]<-[4]<-[5]\n",
      "\n",
      "[611476d2ba32681878bbe9e8ef4efcdfdf517cecb4590b5f811df5ec9a161c91]<-[906bb987f68fb502fbc219a6c09482367c2f005299af0a916b49a9e1f432700e]<-[986c1df6d1a0bd5484ae9aa93195f848ef5ece7c953018ea3f06d7e11676dd75]<-[34bac83844bb403f4bfb239d0d35795b477b6789916c984636664d01474f2f27]<-[afa78feed3925346d18cc969bfc30dcc80ab2666cc3b9adc6fab93bbb6158249]\n",
      "}\n"
     ]
    }
   ],
   "source": [
    "class Block:\n",
    "    def __init__(self, data, previous_hash=\"\"):\n",
    "        self.data=data\n",
    "        self.previous_hash=previous_hash\n",
    "        self.timestamp=str(datetime.datetime.now())\n",
    "        temp=str(data)+previous_hash+self.timestamp\n",
    "        self.hash=hashlib.sha256(temp.encode()).hexdigest()\n",
    "        \n",
    "class Blockchain:\n",
    "    def __init__(self):\n",
    "        self.blocks=[]\n",
    "        \n",
    "if __name__==\"__main__\":\n",
    "    chain=Blockchain()\n",
    "    for i in range(5):\n",
    "        d=int(input(\"Data: \"))\n",
    "        if(len(chain.blocks)==0):\n",
    "            chain.blocks.append(Block(data=d))\n",
    "        else:\n",
    "            chain.blocks.append(Block(data=d,previous_hash=chain.blocks[-1].hash))\n",
    "    print(\"\\n{\")\n",
    "    for x in chain.blocks:\n",
    "        print(f\"previous_hash: {x.previous_hash}\")\n",
    "        print(f\"Data: {x.data}\")\n",
    "        print(f\"hash: {x.hash}\")\n",
    "        print(f\"timestamp: {x.timestamp}\")\n",
    "        print(\"\")\n",
    "    x=(len(chain.blocks)-1)\n",
    "    print(\"Blockchain:\")\n",
    "    for i in range(x):\n",
    "        print(f\"[{chain.blocks[i].data}]<-\",end=\"\")\n",
    "    print(f\"[{chain.blocks[x].data}]\\n\")\n",
    "    for i in range(x):\n",
    "        print(f\"[{chain.blocks[i].hash}]<-\",end=\"\")\n",
    "    print(f\"[{chain.blocks[x].hash}]\")\n",
    "    print(\"}\")\n",
    "    "
   ]
  }
 ],
 "metadata": {
  "kernelspec": {
   "display_name": "Python 3",
   "language": "python",
   "name": "python3"
  },
  "language_info": {
   "codemirror_mode": {
    "name": "ipython",
    "version": 3
   },
   "file_extension": ".py",
   "mimetype": "text/x-python",
   "name": "python",
   "nbconvert_exporter": "python",
   "pygments_lexer": "ipython3",
   "version": "3.7.6"
  }
 },
 "nbformat": 4,
 "nbformat_minor": 4
}
